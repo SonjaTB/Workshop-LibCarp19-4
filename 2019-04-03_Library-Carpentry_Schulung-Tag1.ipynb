{
 "cells": [
  {
   "cell_type": "markdown",
   "metadata": {},
   "source": [
    "# Python-Einführung. Teil 1:Einführung"
   ]
  },
  {
   "cell_type": "markdown",
   "metadata": {},
   "source": [
    "Zu Beginn kurz: Variablenzuweisung, String, Float, Integer"
   ]
  },
  {
   "cell_type": "code",
   "execution_count": 10,
   "metadata": {},
   "outputs": [],
   "source": [
    "my_numbers = [1, 2, 3]"
   ]
  },
  {
   "cell_type": "code",
   "execution_count": 9,
   "metadata": {},
   "outputs": [],
   "source": [
    "my_new_numbers = [\"eins\", 2, \"drei\"]"
   ]
  },
  {
   "cell_type": "code",
   "execution_count": 11,
   "metadata": {},
   "outputs": [
    {
     "data": {
      "text/plain": [
       "'eins'"
      ]
     },
     "execution_count": 11,
     "metadata": {},
     "output_type": "execute_result"
    }
   ],
   "source": [
    "my_new_numbers[0]"
   ]
  },
  {
   "cell_type": "code",
   "execution_count": 12,
   "metadata": {},
   "outputs": [
    {
     "data": {
      "text/plain": [
       "3"
      ]
     },
     "execution_count": 12,
     "metadata": {},
     "output_type": "execute_result"
    }
   ],
   "source": [
    "len(my_new_numbers)"
   ]
  },
  {
   "cell_type": "code",
   "execution_count": 14,
   "metadata": {},
   "outputs": [
    {
     "data": {
      "text/plain": [
       "4"
      ]
     },
     "execution_count": 14,
     "metadata": {},
     "output_type": "execute_result"
    }
   ],
   "source": [
    "my_name = \"Dina\"\n",
    "len(my_name)"
   ]
  },
  {
   "cell_type": "code",
   "execution_count": 15,
   "metadata": {},
   "outputs": [
    {
     "data": {
      "text/plain": [
       "'DINA'"
      ]
     },
     "execution_count": 15,
     "metadata": {},
     "output_type": "execute_result"
    }
   ],
   "source": [
    "my_name.upper()"
   ]
  },
  {
   "cell_type": "code",
   "execution_count": 16,
   "metadata": {},
   "outputs": [],
   "source": [
    "my_name_gross = my_name.upper()"
   ]
  },
  {
   "cell_type": "code",
   "execution_count": 18,
   "metadata": {},
   "outputs": [
    {
     "data": {
      "text/plain": [
       "'DINA'"
      ]
     },
     "execution_count": 18,
     "metadata": {},
     "output_type": "execute_result"
    }
   ],
   "source": [
    "my_name_gross"
   ]
  },
  {
   "cell_type": "code",
   "execution_count": 20,
   "metadata": {},
   "outputs": [
    {
     "data": {
      "text/plain": [
       "'dina'"
      ]
     },
     "execution_count": 20,
     "metadata": {},
     "output_type": "execute_result"
    }
   ],
   "source": [
    "my_name_gross.lower()"
   ]
  },
  {
   "cell_type": "code",
   "execution_count": 22,
   "metadata": {},
   "outputs": [],
   "source": [
    "my_name_gross?"
   ]
  },
  {
   "cell_type": "code",
   "execution_count": 24,
   "metadata": {},
   "outputs": [
    {
     "data": {
      "text/plain": [
       "'dina'"
      ]
     },
     "execution_count": 24,
     "metadata": {},
     "output_type": "execute_result"
    }
   ],
   "source": [
    "my_name_gross.lower()"
   ]
  },
  {
   "cell_type": "code",
   "execution_count": 26,
   "metadata": {},
   "outputs": [
    {
     "name": "stdout",
     "output_type": "stream",
     "text": [
      "1\n",
      "2\n",
      "3\n"
     ]
    }
   ],
   "source": [
    "my_numbers = [1, 2, 3]\n",
    "for number in my_numbers: \n",
    "    print(number)"
   ]
  },
  {
   "cell_type": "code",
   "execution_count": null,
   "metadata": {},
   "outputs": [],
   "source": []
  },
  {
   "cell_type": "code",
   "execution_count": 31,
   "metadata": {},
   "outputs": [
    {
     "name": "stdout",
     "output_type": "stream",
     "text": [
      "Das sind meine Zahlen\n",
      "[1, 2, 3]\n",
      "Das sind meine neuen Zahlen\n",
      "Neu\n",
      "2\n",
      "Neu\n",
      "3\n",
      "Neu\n",
      "4\n",
      "Die For-Schleife ist vorbei\n"
     ]
    }
   ],
   "source": [
    "my_numbers = [1, 2, 3]\n",
    "print(\"Das sind meine Zahlen\")\n",
    "print(my_numbers)\n",
    "print(\"Das sind meine neuen Zahlen\")\n",
    "for number in my_numbers: \n",
    "    number_pluseins = number + 1\n",
    "    print(\"Neu\")\n",
    "    print(number_pluseins)\n",
    "print(\"Die For-Schleife ist vorbei\")"
   ]
  },
  {
   "cell_type": "markdown",
   "metadata": {},
   "source": [
    "Beachte: Variablennamen werden bei Neuzuweisung einfach überschrieben!\n",
    "Beachte auch: In der For-Schleife müssen alle Befehle, die in dieser Schleife ausgeführt werden sollen EINGERÜCKT (indentation) werden! (Anstelle von Klammern oder so)"
   ]
  },
  {
   "cell_type": "markdown",
   "metadata": {},
   "source": [
    "Neuer Container: Dictionary. Statt Liste nun was Neues: immer einen Schlüssel und einen Wert. "
   ]
  },
  {
   "cell_type": "code",
   "execution_count": 37,
   "metadata": {},
   "outputs": [],
   "source": [
    "authors_and_books = {\"Darwin\" : \"Species\", \n",
    "                     \"Jemison\" : \"Wind\", \n",
    "                     \"Hawking\" : \"Nutshell\"}"
   ]
  },
  {
   "cell_type": "code",
   "execution_count": 38,
   "metadata": {},
   "outputs": [],
   "source": [
    "#Zum Verständnis: Key + Value."
   ]
  },
  {
   "cell_type": "markdown",
   "metadata": {},
   "source": [
    "Auch hier kann wieder ein Index erstellt werden: "
   ]
  },
  {
   "cell_type": "code",
   "execution_count": 35,
   "metadata": {},
   "outputs": [
    {
     "data": {
      "text/plain": [
       "'Species'"
      ]
     },
     "execution_count": 35,
     "metadata": {},
     "output_type": "execute_result"
    }
   ],
   "source": [
    "authors_and_books[\"Darwin\"]"
   ]
  },
  {
   "cell_type": "markdown",
   "metadata": {},
   "source": [
    "Beachte: Der Schlüssel muss eindeutig sein (wird ggf. überschrieben). Die Werte können hier auch wieder Dictionaries und Listen usw. sein. Mann kann da beliebiges \"nesting\" betreiben..."
   ]
  },
  {
   "cell_type": "markdown",
   "metadata": {},
   "source": [
    "Nun: Funktionen definieren"
   ]
  },
  {
   "cell_type": "code",
   "execution_count": 39,
   "metadata": {},
   "outputs": [],
   "source": [
    "def sub_function(a, b): #in den Klammern die Parameter, nach dem Doppelpunkt der functionbody\n",
    "    result = a - b\n",
    "    return result#diese definiert, was wir für einen Wert zurück bekommen wollen\n"
   ]
  },
  {
   "cell_type": "code",
   "execution_count": 40,
   "metadata": {},
   "outputs": [
    {
     "data": {
      "text/plain": [
       "-1"
      ]
     },
     "execution_count": 40,
     "metadata": {},
     "output_type": "execute_result"
    }
   ],
   "source": [
    "sub_function(3, 4) #hier verlangt die Funktion genau 2 Parameter"
   ]
  },
  {
   "cell_type": "code",
   "execution_count": 43,
   "metadata": {},
   "outputs": [],
   "source": [
    "my_result = sub_function(1234, 12345) #Zuweisung einer Variablen"
   ]
  },
  {
   "cell_type": "code",
   "execution_count": 44,
   "metadata": {},
   "outputs": [
    {
     "name": "stdout",
     "output_type": "stream",
     "text": [
      "-11111\n"
     ]
    }
   ],
   "source": [
    "print(my_result)"
   ]
  },
  {
   "cell_type": "markdown",
   "metadata": {},
   "source": [
    "Warum brauchen wir solche Funktionen? Vorteil ist, dass wir sie immer wieder benutzen können und nicht jedes Mal ihre ganzen Operationen durchexerzieren müssen. Auch machen sie den Text leserlicher, weil ich erst alle Funktionendefinitionen angeben und sie später, an gegebener Stelle, ausführen kann. \n",
    "\n",
    "\"Don't repeat yourself - DRY\" \n",
    "\n",
    "Das menschliche Gehirn muss zudem den Code verstehen, ist die Strukturierung wichtig. Dabei helfen die Dateinamen auch. Der Cognitive Load ist das Stichwort. Der kognitive Aufwand wird durch die kleinen Bausteine und Strukturierung verringert. "
   ]
  },
  {
   "cell_type": "code",
   "execution_count": 46,
   "metadata": {},
   "outputs": [
    {
     "name": "stdout",
     "output_type": "stream",
     "text": [
      "2\n",
      "3\n",
      "4\n"
     ]
    }
   ],
   "source": [
    "my_numbers = [1, 2, 3]\n",
    "\n",
    "def add_one_to_number(list_of_numbers):\n",
    "    for number in list_of_numbers: \n",
    "        number_plus_one = number + 1\n",
    "        print(number_plus_one)\n",
    "        \n",
    "add_one_to_number(my_numbers)\n"
   ]
  },
  {
   "cell_type": "markdown",
   "metadata": {},
   "source": [
    "Conditionals"
   ]
  },
  {
   "cell_type": "code",
   "execution_count": 48,
   "metadata": {},
   "outputs": [
    {
     "name": "stdout",
     "output_type": "stream",
     "text": [
      "Es ist zu heiss!\n"
     ]
    }
   ],
   "source": [
    "temperature = 26\n",
    "if temperature > 22: \n",
    "    print(\"Es ist zu heiss!\")"
   ]
  },
  {
   "cell_type": "code",
   "execution_count": 50,
   "metadata": {},
   "outputs": [],
   "source": [
    "temperature = 19\n",
    "if temperature > 22: \n",
    "    print(\"Es ist zu heiss!\")\n",
    "\n",
    "    #so passiert nix"
   ]
  },
  {
   "cell_type": "code",
   "execution_count": 52,
   "metadata": {},
   "outputs": [
    {
     "name": "stdout",
     "output_type": "stream",
     "text": [
      "bäh, ist das kalt\n"
     ]
    }
   ],
   "source": [
    "temperature = 19\n",
    "if temperature > 22: \n",
    "    print(\"Es ist zu heiß!\")\n",
    "else:\n",
    "    print(\"bäh, ist das kalt\")"
   ]
  },
  {
   "cell_type": "code",
   "execution_count": 54,
   "metadata": {},
   "outputs": [
    {
     "name": "stdout",
     "output_type": "stream",
     "text": [
      "Temperatur okay\n"
     ]
    }
   ],
   "source": [
    "temperature = 19\n",
    "if temperature > 22: \n",
    "    print(\"Es ist zu heiß!\")\n",
    "elif temperature < 18:\n",
    "    print(\"bäh, ist das kalt\")\n",
    "else:\n",
    "    print(\"Temperatur okay\")"
   ]
  },
  {
   "cell_type": "code",
   "execution_count": null,
   "metadata": {},
   "outputs": [],
   "source": []
  }
 ],
 "metadata": {
  "kernelspec": {
   "display_name": "Python 3",
   "language": "python",
   "name": "python3"
  },
  "language_info": {
   "codemirror_mode": {
    "name": "ipython",
    "version": 3
   },
   "file_extension": ".py",
   "mimetype": "text/x-python",
   "name": "python",
   "nbconvert_exporter": "python",
   "pygments_lexer": "ipython3",
   "version": "3.7.1"
  }
 },
 "nbformat": 4,
 "nbformat_minor": 2
}
